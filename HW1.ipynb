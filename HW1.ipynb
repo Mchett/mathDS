{
 "cells": [
  {
   "cell_type": "markdown",
   "id": "174a541c",
   "metadata": {},
   "source": [
    "### Задание 1.\n",
    "\n",
    "Представить фильмы в виде бинарных векторов (numpy array) используюя следующие признаки:\n",
    "\n",
    "[Комедия, Боевик, Исторический, Бред Питт, Бенедикт Камбербэтч, Квентин Тарантино]\n",
    "\n",
    "1. Игра в имитацию [https://www.kinopoisk.ru/film/635772/]\n",
    "2. Ярость [https://www.kinopoisk.ru/film/740644/]\n",
    "3. 12 лет рабства [https://www.kinopoisk.ru/film/606646/]\n",
    "4. Однажды в Голливуде [https://www.kinopoisk.ru/film/1047883/]"
   ]
  },
  {
   "cell_type": "code",
   "execution_count": 1,
   "id": "2f0e1417",
   "metadata": {},
   "outputs": [],
   "source": [
    "import numpy as np\n",
    "\n",
    "f1 = np.array([0,0,0,0,1,0])\n",
    "f2 = np.array([0,1,0,1,0,0])\n",
    "f3 = np.array([0,0,1,1,1,0])\n",
    "f4 = np.array([1,0,0,1,0,1])\n",
    "\n",
    "film_list = {\n",
    "    'Игра в имитацию': f1,\n",
    "    'Ярость': f2,\n",
    "    '12 лет рабства': f3,\n",
    "    'Однажды в Голливуде': f4\n",
    "}"
   ]
  },
  {
   "cell_type": "markdown",
   "id": "9cc2d915",
   "metadata": {},
   "source": [
    "### Задание 2.\n",
    "Вычислить Евклидову норму каждого из векторов, полученных в Задании 1."
   ]
  },
  {
   "cell_type": "code",
   "execution_count": 4,
   "id": "8e2f03a3",
   "metadata": {},
   "outputs": [
    {
     "name": "stdout",
     "output_type": "stream",
     "text": [
      "Игра в имитацию - 1.0\n",
      "Ярость - 1.4142135623730951\n",
      "12 лет рабства - 1.7320508075688772\n",
      "Однажды в Голливуде - 1.7320508075688772\n"
     ]
    }
   ],
   "source": [
    "for Name, Data in film_list.items():\n",
    "    print(f'{Name} - {np.linalg.norm(Data)}')"
   ]
  },
  {
   "cell_type": "markdown",
   "id": "ac1b44b7",
   "metadata": {},
   "source": [
    "### Задание 3.\n",
    "Найти угол между векторами-фильмами \"Ярость\" и \"12 лет рабства\". Результатом будет являться косинусная мера, которую можно использовать для определения похожести векторов."
   ]
  },
  {
   "cell_type": "code",
   "execution_count": 5,
   "id": "e771479b",
   "metadata": {},
   "outputs": [
    {
     "data": {
      "text/plain": [
       "(0.40824829046386296, 65.90515744788931)"
      ]
     },
     "execution_count": 5,
     "metadata": {},
     "output_type": "execute_result"
    }
   ],
   "source": [
    "cos = np.dot(f2, f3) / (np.linalg.norm(f2) * np.linalg.norm(f3))\n",
    "theta = np.rad2deg(np.arccos(cos))\n",
    "cos, theta"
   ]
  },
  {
   "cell_type": "markdown",
   "id": "b4efea85",
   "metadata": {},
   "source": [
    "### Задание 4.\n",
    "Объединить векторы, полученные в Задании 1 в матрицу, где каждый вектор является строкой матрицы. Полученную матрицу умножить на вектор [1,2,3,4]"
   ]
  },
  {
   "cell_type": "code",
   "execution_count": 7,
   "id": "1b755be9",
   "metadata": {},
   "outputs": [
    {
     "data": {
      "text/plain": [
       "array([[0, 0, 0, 0, 0, 0],\n",
       "       [0, 1, 0, 1, 0, 0],\n",
       "       [0, 0, 1, 1, 1, 0],\n",
       "       [1, 0, 0, 1, 0, 1]], dtype=int32)"
      ]
     },
     "execution_count": 7,
     "metadata": {},
     "output_type": "execute_result"
    }
   ],
   "source": [
    "films = []\n",
    "for f in film_list:\n",
    "    films.append(film_list[f].tolist())\n",
    "films_matrix = np.array(films)\n",
    "test_vector = np.array([[1], [2], [3], [4]])\n",
    "films_matrix%test_vector"
   ]
  },
  {
   "cell_type": "markdown",
   "id": "aaca36c1",
   "metadata": {},
   "source": [
    "### Задание 5.\n",
    "Вычислить на бумаге и с помощью Python значение первой и второй производной для функции 3x*(x^2+x)^3  в точке x = 1"
   ]
  },
  {
   "cell_type": "code",
   "execution_count": 15,
   "id": "e3dfd3b7",
   "metadata": {},
   "outputs": [
    {
     "data": {
      "text/latex": [
       "$\\displaystyle 3 x \\left(6 x + 3\\right) \\left(x^{2} + x\\right)^{2} + 3 \\left(x^{2} + x\\right)^{3}$"
      ],
      "text/plain": [
       "3*x*(6*x + 3)*(x**2 + x)**2 + 3*(x**2 + x)**3"
      ]
     },
     "execution_count": 15,
     "metadata": {},
     "output_type": "execute_result"
    }
   ],
   "source": [
    "import sympy as sym\n",
    "x = sym.Symbol('x')\n",
    "func = 3*x*(x**2+x)**3\n",
    "first_p = sym.diff(func, x)\n",
    "first_p"
   ]
  },
  {
   "cell_type": "code",
   "execution_count": 14,
   "id": "8c160f54",
   "metadata": {},
   "outputs": [
    {
     "name": "stdout",
     "output_type": "stream",
     "text": [
      "В точке х=1 значение первой производной = 132\n"
     ]
    }
   ],
   "source": [
    "print(f'В точке х=1 значение первой производной = {first_p.subs(x,1)}')"
   ]
  },
  {
   "cell_type": "code",
   "execution_count": 16,
   "id": "5eb83588",
   "metadata": {},
   "outputs": [
    {
     "data": {
      "text/latex": [
       "$\\displaystyle 3 x \\left(4 x + 2\\right) \\left(6 x + 3\\right) \\left(x^{2} + x\\right) + 18 x \\left(x^{2} + x\\right)^{2} + 6 \\left(6 x + 3\\right) \\left(x^{2} + x\\right)^{2}$"
      ],
      "text/plain": [
       "3*x*(4*x + 2)*(6*x + 3)*(x**2 + x) + 18*x*(x**2 + x)**2 + 6*(6*x + 3)*(x**2 + x)**2"
      ]
     },
     "execution_count": 16,
     "metadata": {},
     "output_type": "execute_result"
    }
   ],
   "source": [
    "second_p = sym.diff(first, x)\n",
    "second_p"
   ]
  },
  {
   "cell_type": "code",
   "execution_count": 17,
   "id": "567b8364",
   "metadata": {},
   "outputs": [
    {
     "name": "stdout",
     "output_type": "stream",
     "text": [
      "В точке х=1 значение второй производной = 612\n"
     ]
    }
   ],
   "source": [
    "print(f'В точке х=1 значение второй производной = {second_p.subs(x,1)}')"
   ]
  },
  {
   "cell_type": "code",
   "execution_count": null,
   "id": "e22d8916",
   "metadata": {},
   "outputs": [],
   "source": []
  }
 ],
 "metadata": {
  "kernelspec": {
   "display_name": "Python 3 (ipykernel)",
   "language": "python",
   "name": "python3"
  },
  "language_info": {
   "codemirror_mode": {
    "name": "ipython",
    "version": 3
   },
   "file_extension": ".py",
   "mimetype": "text/x-python",
   "name": "python",
   "nbconvert_exporter": "python",
   "pygments_lexer": "ipython3",
   "version": "3.8.5"
  }
 },
 "nbformat": 4,
 "nbformat_minor": 5
}
