{
 "cells": [
  {
   "cell_type": "markdown",
   "metadata": {},
   "source": [
    "## Домашнее задание №1 - Линейная алгебра. Матрицы"
   ]
  },
  {
   "cell_type": "markdown",
   "metadata": {},
   "source": [
    "### Задание 1."
   ]
  },
  {
   "cell_type": "markdown",
   "metadata": {},
   "source": [
    "Создайте случайную матрицу $А_1$ размерностью $5$ на $5$. Вычислить транспонированную матрицу $A^T$ и найти обратную матрицу $A^{-1}$\n",
    "Найдите определитель и ранг каждой полученной матрицы."
   ]
  },
  {
   "cell_type": "code",
   "execution_count": 1,
   "metadata": {},
   "outputs": [
    {
     "data": {
      "text/plain": [
       "array([[0.37454012, 0.95071431, 0.73199394, 0.59865848, 0.15601864],\n",
       "       [0.15599452, 0.05808361, 0.86617615, 0.60111501, 0.70807258],\n",
       "       [0.02058449, 0.96990985, 0.83244264, 0.21233911, 0.18182497],\n",
       "       [0.18340451, 0.30424224, 0.52475643, 0.43194502, 0.29122914],\n",
       "       [0.61185289, 0.13949386, 0.29214465, 0.36636184, 0.45606998]])"
      ]
     },
     "execution_count": 1,
     "metadata": {},
     "output_type": "execute_result"
    }
   ],
   "source": [
    "import numpy as np\n",
    "A1 = np.random.RandomState(seed=42).random((5,5)) \n",
    "A1"
   ]
  },
  {
   "cell_type": "code",
   "execution_count": 5,
   "metadata": {},
   "outputs": [
    {
     "data": {
      "text/plain": [
       "5"
      ]
     },
     "execution_count": 5,
     "metadata": {},
     "output_type": "execute_result"
    }
   ],
   "source": [
    "np.linalg.matrix_rank(A1)"
   ]
  },
  {
   "cell_type": "code",
   "execution_count": 3,
   "metadata": {},
   "outputs": [
    {
     "data": {
      "text/plain": [
       "array([[0.37454012, 0.15599452, 0.02058449, 0.18340451, 0.61185289],\n",
       "       [0.95071431, 0.05808361, 0.96990985, 0.30424224, 0.13949386],\n",
       "       [0.73199394, 0.86617615, 0.83244264, 0.52475643, 0.29214465],\n",
       "       [0.59865848, 0.60111501, 0.21233911, 0.43194502, 0.36636184],\n",
       "       [0.15601864, 0.70807258, 0.18182497, 0.29122914, 0.45606998]])"
      ]
     },
     "execution_count": 3,
     "metadata": {},
     "output_type": "execute_result"
    }
   ],
   "source": [
    "A1_t = np.transpose(A1)\n",
    "A1_t"
   ]
  },
  {
   "cell_type": "code",
   "execution_count": 6,
   "metadata": {},
   "outputs": [
    {
     "data": {
      "text/plain": [
       "5"
      ]
     },
     "execution_count": 6,
     "metadata": {},
     "output_type": "execute_result"
    }
   ],
   "source": [
    "np.linalg.matrix_rank(A1_t)"
   ]
  },
  {
   "cell_type": "code",
   "execution_count": 4,
   "metadata": {},
   "outputs": [
    {
     "data": {
      "text/plain": [
       "array([[  364.60350483,   334.16789204,   -91.41631021,  -895.54602541,\n",
       "          -35.23406016],\n",
       "       [ -351.86538626,  -323.93604372,    89.07808984,   864.20754679,\n",
       "           35.93471989],\n",
       "       [  584.80763977,   538.00659297,  -146.16417479, -1436.8998493 ,\n",
       "          -59.51982157],\n",
       "       [ -234.80558669,  -217.08098236,    57.15090649,   582.66687482,\n",
       "           22.50116178],\n",
       "       [ -567.51216365,  -519.48181002,   143.11544206,  1389.49392418,\n",
       "           58.52220068]])"
      ]
     },
     "execution_count": 4,
     "metadata": {},
     "output_type": "execute_result"
    }
   ],
   "source": [
    "A1_inv = np.linalg.inv(A1)\n",
    "A1_inv"
   ]
  },
  {
   "cell_type": "code",
   "execution_count": 7,
   "metadata": {},
   "outputs": [
    {
     "data": {
      "text/plain": [
       "5"
      ]
     },
     "execution_count": 7,
     "metadata": {},
     "output_type": "execute_result"
    }
   ],
   "source": [
    "np.linalg.matrix_rank(A1_inv)"
   ]
  },
  {
   "cell_type": "markdown",
   "metadata": {},
   "source": [
    "### Задание 2."
   ]
  },
  {
   "cell_type": "markdown",
   "metadata": {},
   "source": [
    "Создайте диагональную матрицу, поэлементно перемножив единичную матрицу $I$ и случайную матрицу $A_2$ размерности $6$ на $6$ \n",
    "Найдите определитель и ранг полученной матрицы.   "
   ]
  },
  {
   "cell_type": "code",
   "execution_count": 8,
   "metadata": {},
   "outputs": [
    {
     "data": {
      "text/plain": [
       "array([[0.96128424, 0.55551009, 0.43461942, 0.43945757, 0.01261973,\n",
       "        0.35164164],\n",
       "       [0.01504078, 0.19919585, 0.97726654, 0.11424255, 0.41170307,\n",
       "        0.67716556],\n",
       "       [0.07297994, 0.62169179, 0.21574854, 0.04773949, 0.22252458,\n",
       "        0.32254348],\n",
       "       [0.99669286, 0.43600971, 0.2129178 , 0.23950173, 0.56093753,\n",
       "        0.05275799],\n",
       "       [0.37412949, 0.14042837, 0.28355113, 0.01641205, 0.6919372 ,\n",
       "        0.54426967],\n",
       "       [0.62122388, 0.45134292, 0.68495361, 0.1771434 , 0.01149128,\n",
       "        0.76409412]])"
      ]
     },
     "execution_count": 8,
     "metadata": {},
     "output_type": "execute_result"
    }
   ],
   "source": [
    "I = np.eye(6)\n",
    "A2 = np.random.random([6,6])\n",
    "A2"
   ]
  },
  {
   "cell_type": "code",
   "execution_count": 9,
   "metadata": {},
   "outputs": [
    {
     "data": {
      "text/plain": [
       "array([[0.96128424, 0.        , 0.        , 0.        , 0.        ,\n",
       "        0.        ],\n",
       "       [0.        , 0.19919585, 0.        , 0.        , 0.        ,\n",
       "        0.        ],\n",
       "       [0.        , 0.        , 0.21574854, 0.        , 0.        ,\n",
       "        0.        ],\n",
       "       [0.        , 0.        , 0.        , 0.23950173, 0.        ,\n",
       "        0.        ],\n",
       "       [0.        , 0.        , 0.        , 0.        , 0.6919372 ,\n",
       "        0.        ],\n",
       "       [0.        , 0.        , 0.        , 0.        , 0.        ,\n",
       "        0.76409412]])"
      ]
     },
     "execution_count": 9,
     "metadata": {},
     "output_type": "execute_result"
    }
   ],
   "source": [
    "A2_I = A2*I\n",
    "A2_I"
   ]
  },
  {
   "cell_type": "code",
   "execution_count": 10,
   "metadata": {},
   "outputs": [
    {
     "data": {
      "text/plain": [
       "6"
      ]
     },
     "execution_count": 10,
     "metadata": {},
     "output_type": "execute_result"
    }
   ],
   "source": [
    "np.linalg.matrix_rank(A2_I)"
   ]
  },
  {
   "cell_type": "code",
   "execution_count": 11,
   "metadata": {},
   "outputs": [
    {
     "data": {
      "text/plain": [
       "0.005231210320267552"
      ]
     },
     "execution_count": 11,
     "metadata": {},
     "output_type": "execute_result"
    }
   ],
   "source": [
    "np.linalg.det(A2_I)"
   ]
  },
  {
   "cell_type": "markdown",
   "metadata": {},
   "source": [
    "### Задание 3."
   ]
  },
  {
   "cell_type": "markdown",
   "metadata": {},
   "source": [
    "Далее давайте представим изображения в виде матриц и также определим их свойства. \n",
    "Для первых $10$ цифр (от $0$ до $9$) из тестовой базы рукописных цифр (MNIST) определить какая из этих цифр имеет максимальный ранг?"
   ]
  },
  {
   "cell_type": "code",
   "execution_count": 24,
   "metadata": {},
   "outputs": [
    {
     "name": "stdout",
     "output_type": "stream",
     "text": [
      "7\n"
     ]
    }
   ],
   "source": [
    "from sklearn.datasets import load_digits\n",
    "import matplotlib.pyplot as plt\n",
    "digits = load_digits()\n",
    "max_r = np.linalg.matrix_rank(digits.images[0])\n",
    "max_i = 0\n",
    "for i in range(1, 10):\n",
    "    if np.linalg.matrix_rank(digits.images[i]) > max_r:\n",
    "        max_r = np.linalg.matrix_rank(digits.images[i])\n",
    "        max_i = i\n",
    "print(max_i)"
   ]
  },
  {
   "cell_type": "code",
   "execution_count": 25,
   "metadata": {},
   "outputs": [
    {
     "data": {
      "text/plain": [
       "<Figure size 432x288 with 0 Axes>"
      ]
     },
     "metadata": {},
     "output_type": "display_data"
    },
    {
     "data": {
      "image/png": "[encoded data removed]",
      "text/plain": [
       "<Figure size 288x288 with 1 Axes>"
      ]
     },
     "metadata": {
      "needs_background": "light"
     },
     "output_type": "display_data"
    }
   ],
   "source": [
    "plt.gray();\n",
    "plt.matshow(digits.images[max_i]);\n",
    "plt.show()"
   ]
  },
  {
   "cell_type": "code",
   "execution_count": 14,
   "metadata": {},
   "outputs": [],
   "source": []
  },
  {
   "cell_type": "markdown",
   "metadata": {},
   "source": [
    "### Задание 4."
   ]
  },
  {
   "cell_type": "markdown",
   "metadata": {},
   "source": [
    "Для первых $10$ цифр (от $0$ до $9$) из тестовой базы рукописных цифр (MNIST) найдите все собственные числа. Для каких цифр все собственные значения не являются комплексными? Подробнее о комплексных числах можно почитать [здесь](https://ru.wikipedia.org/wiki/%D0%9A%D0%BE%D0%BC%D0%BF%D0%BB%D0%B5%D0%BA%D1%81%D0%BD%D0%BE%D0%B5_%D1%87%D0%B8%D1%81%D0%BB%D0%BE) "
   ]
  },
  {
   "cell_type": "code",
   "execution_count": 30,
   "metadata": {},
   "outputs": [
    {
     "name": "stdout",
     "output_type": "stream",
     "text": [
      "0 :  [  0.           0.          38.87795499  -3.63459035  -0.73101\n",
      "   3.91352574   2.68851616 -14.11439655] \n",
      "\n",
      "1 :  [ 0.        +0.j          0.        +0.j          0.        +0.j\n",
      " 43.90876882+0.j         -2.81320584+5.92806111j -2.81320584-5.92806111j\n",
      "  1.35882143+0.32955102j  1.35882143-0.32955102j] \n",
      "\n",
      "2 :  [  0.           0.           5.          39.6980372  -18.4455357\n",
      "  -4.77732707   8.20786562   4.31695994] \n",
      "\n",
      "3 :  [ 0.        +0.j          0.        +0.j         26.78722854+0.j\n",
      " -4.6394655 +0.j          0.69927242+0.j         11.54360992+6.68082411j\n",
      " 11.54360992-6.68082411j  9.0657447 +0.j        ] \n",
      "\n",
      "4 :  [  0.        +0.j           0.        +0.j\n",
      "  42.31646853+0.j         -16.51428562+0.j\n",
      "   2.74751936+8.20271632j   2.74751936-8.20271632j\n",
      "  -1.03051134+0.j           1.73328971+0.j        ] \n",
      "\n",
      "5 :  [ 0.        +0.j          0.        +0.j          0.        +0.j\n",
      " 37.46865411+0.j         19.99538181+0.j         -2.16232674+0.79050023j\n",
      " -2.16232674-0.79050023j  2.86061757+0.j        ] \n",
      "\n",
      "6 :  [ 0.          0.          0.         30.23327329 20.52704925 -2.74115196\n",
      "  5.8593327   3.12149672] \n",
      "\n",
      "7 :  [  0.        +0.j           0.        +0.j\n",
      "  38.91161854+0.j         -13.97150918+0.j\n",
      "   6.08033452+0.j          -1.23858742+6.12713731j\n",
      "  -1.23858742-6.12713731j  -5.54326904+0.j        ] \n",
      "\n",
      "8 :  [ 0.        +0.j          0.        +0.j         44.56329631+0.j\n",
      " 18.3859097 +0.j         -1.71753054+6.38032702j -1.71753054-6.38032702j\n",
      "  4.59692012+0.j         -2.11106505+0.j        ] \n",
      "\n",
      "9 :  [  0.        +0.j           0.        +0.j\n",
      "  40.5091891 +0.j          16.66230149+0.j\n",
      " -12.29208882+0.j          -3.97807147+0.j\n",
      "   0.04933485+4.15644444j   0.04933485-4.15644444j] \n",
      "\n"
     ]
    }
   ],
   "source": [
    "\n",
    "for i in range( 10):\n",
    "    w = np.linalg.eigvals(digits.images[i])\n",
    "    print(i,\": \",w,\"\\n\")"
   ]
  },
  {
   "cell_type": "markdown",
   "metadata": {},
   "source": [
    "Ответ: 0, 2, 6"
   ]
  },
  {
   "cell_type": "code",
   "execution_count": null,
   "metadata": {},
   "outputs": [],
   "source": []
  }
 ],
 "metadata": {
  "kernelspec": {
   "display_name": "Python 3 (ipykernel)",
   "language": "python",
   "name": "python3"
  },
  "language_info": {
   "codemirror_mode": {
    "name": "ipython",
    "version": 3
   },
   "file_extension": ".py",
   "mimetype": "text/x-python",
   "name": "python",
   "nbconvert_exporter": "python",
   "pygments_lexer": "ipython3",
   "version": "3.8.5"
  }
 },
 "nbformat": 4,
 "nbformat_minor": 4
}
